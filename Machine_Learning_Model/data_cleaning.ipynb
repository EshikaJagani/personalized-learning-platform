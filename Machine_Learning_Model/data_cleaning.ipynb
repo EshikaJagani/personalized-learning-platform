{
 "cells": [
  {
   "cell_type": "code",
   "id": "initial_id",
   "metadata": {
    "collapsed": true,
    "ExecuteTime": {
     "end_time": "2025-06-24T16:31:13.401921Z",
     "start_time": "2025-06-24T16:30:38.937255Z"
    }
   },
   "source": [
    "import pandas as pd\n",
    "merged = pd.read_csv('plogs_with_metadata.csv')\n",
    "\n",
    "print(merged.info())\n",
    "print(merged.head())"
   ],
   "outputs": [
    {
     "name": "stdout",
     "output_type": "stream",
     "text": [
      "<class 'pandas.core.frame.DataFrame'>\n",
      "RangeIndex: 17476374 entries, 0 to 17476373\n",
      "Data columns (total 19 columns):\n",
      " #   Column                  Dtype  \n",
      "---  ------                  -----  \n",
      " 0   log_id                  int64  \n",
      " 1   student_id              int64  \n",
      " 2   assignment_id           int64  \n",
      " 3   problem_id              int64  \n",
      " 4   start_time              object \n",
      " 5   time_on_task            float64\n",
      " 6   answer_before_tutoring  object \n",
      " 7   fraction_of_hints_used  float64\n",
      " 8   attempt_count           int64  \n",
      " 9   answer_given            bool   \n",
      " 10  problem_completed       bool   \n",
      " 11  correct                 object \n",
      " 12  content_source          object \n",
      " 13  skills                  object \n",
      " 14  problem_type            object \n",
      " 15  tutoring_types          object \n",
      " 16  student_answer_count    float64\n",
      " 17  mean_correct            float64\n",
      " 18  mean_time_on_task       float64\n",
      "dtypes: bool(2), float64(5), int64(5), object(7)\n",
      "memory usage: 2.2+ GB\n",
      "None\n",
      "    log_id  student_id  assignment_id  problem_id  \\\n",
      "0  8931626      558286         818971     1423359   \n",
      "1  8931626      558286         818971     1423360   \n",
      "2  8931626      558286         818971     1423361   \n",
      "3  8931626      558286         818971     1423362   \n",
      "4  8931626      558286         818971     1423363   \n",
      "\n",
      "                         start_time  time_on_task answer_before_tutoring  \\\n",
      "0  2020-11-01 01:04:22.133000-05:00       374.106                   True   \n",
      "1  2020-11-01 01:10:37.108000-05:00        13.073                   True   \n",
      "2  2020-11-01 01:10:51.303000-05:00        11.239                   True   \n",
      "3  2020-11-01 01:11:03.950000-05:00        11.224                   True   \n",
      "4  2020-11-01 01:11:15.952000-05:00        13.118                   True   \n",
      "\n",
      "   fraction_of_hints_used  attempt_count  answer_given  problem_completed  \\\n",
      "0                     0.0              1         False               True   \n",
      "1                     0.0              1         False               True   \n",
      "2                     0.0              1         False               True   \n",
      "3                     0.0              1         False               True   \n",
      "4                     0.0              1         False               True   \n",
      "\n",
      "  correct       content_source                      skills problem_type  \\\n",
      "0    True  ['Engage New York']               ['7.RP.A.2b']       Number   \n",
      "1    True  ['Engage New York']  ['6.RP.A.3b', '7.RP.A.2c']       Number   \n",
      "2    True  ['Engage New York']               ['7.RP.A.2b']       Number   \n",
      "3    True  ['Engage New York']  ['7.RP.A.2a', '7.RP.A.2c']       Number   \n",
      "4    True  ['Engage New York']               ['7.RP.A.2b']       Number   \n",
      "\n",
      "            tutoring_types  student_answer_count  mean_correct  \\\n",
      "0  ['Explanation', 'Hint']                 576.0      0.604478   \n",
      "1  ['Explanation', 'Hint']                 462.0      0.787746   \n",
      "2  ['Explanation', 'Hint']                 436.0      0.647465   \n",
      "3  ['Explanation', 'Hint']                 431.0      0.762353   \n",
      "4  ['Explanation', 'Hint']                 404.0      0.611940   \n",
      "\n",
      "   mean_time_on_task  \n",
      "0         277.581396  \n",
      "1         120.445969  \n",
      "2         104.151620  \n",
      "3         102.486845  \n",
      "4          80.501440  \n"
     ]
    }
   ],
   "execution_count": 1
  },
  {
   "metadata": {
    "ExecuteTime": {
     "end_time": "2025-06-24T16:32:40.949206Z",
     "start_time": "2025-06-24T16:32:37.459064Z"
    }
   },
   "cell_type": "code",
   "source": "merged.isnull().sum().sort_values(ascending=False)",
   "id": "fdfb220ada79e2e3",
   "outputs": [
    {
     "data": {
      "text/plain": [
       "skills                    9012640\n",
       "fraction_of_hints_used    8925835\n",
       "tutoring_types            7038373\n",
       "correct                   4732693\n",
       "mean_correct              4575934\n",
       "time_on_task               311345\n",
       "answer_before_tutoring     283759\n",
       "mean_time_on_task           48823\n",
       "student_answer_count        19860\n",
       "problem_type                19860\n",
       "content_source              19860\n",
       "log_id                          0\n",
       "problem_completed               0\n",
       "student_id                      0\n",
       "attempt_count                   0\n",
       "start_time                      0\n",
       "problem_id                      0\n",
       "assignment_id                   0\n",
       "answer_given                    0\n",
       "dtype: int64"
      ]
     },
     "execution_count": 2,
     "metadata": {},
     "output_type": "execute_result"
    }
   ],
   "execution_count": 2
  },
  {
   "metadata": {
    "ExecuteTime": {
     "end_time": "2025-06-24T16:36:36.865885Z",
     "start_time": "2025-06-24T16:35:54.825248Z"
    }
   },
   "cell_type": "code",
   "source": [
    "import pandas as pd\n",
    "import numpy as np\n",
    "import ast\n",
    "\n",
    "df = merged.copy()\n",
    "\n",
    "# 1. REMOVE logs with *missing skill or correct outcome* (required for topic-learning analysis!)\n",
    "df = df.dropna(subset=['skills', 'correct'])\n",
    "\n",
    "# 2. Parse skills into a list, then explode so each row = a single skill attempt\n",
    "def safe_parse(x):\n",
    "    try: return ast.literal_eval(x) if isinstance(x,str) else []\n",
    "    except: return []\n",
    "df['skills_list'] = df['skills'].map(safe_parse)\n",
    "df = df.explode('skills_list').rename(columns={'skills_list':'skill'})\n",
    "df = df.dropna(subset=['skill']) # Remove logs where parsed skill is missing\n",
    "\n",
    "# 3. Convert correct to binary\n",
    "df['correct'] = df['correct'].map({True: 1, False: 0})\n",
    "\n",
    "# 4. time_on_task: fill missing with median, cap large outliers (e.g., 20 min = 1200s)\n",
    "df['time_on_task'] = df['time_on_task'].fillna(df['time_on_task'].median())\n",
    "df['time_on_task'] = np.clip(df['time_on_task'], 1, 1200)\n",
    "\n",
    "# 5. fraction_of_hints_used: fill missing with 0\n",
    "df['fraction_of_hints_used'] = df['fraction_of_hints_used'].fillna(0.0)\n",
    "\n",
    "# 6. answer_before_tutoring, answer_given, problem_completed: convert to binary numeric\n",
    "def to_binary(col):\n",
    "    return col.map({True:1, False:0, 'True':1, 'False':0}).fillna(0)\n",
    "\n",
    "df['answer_before_tutoring'] = to_binary(df['answer_before_tutoring'])\n",
    "df['answer_given'] = to_binary(df['answer_given'])\n",
    "df['problem_completed'] = to_binary(df['problem_completed'])\n",
    "\n",
    "# 7. problem_type, content_source: Fill NA as \"Unknown\" if categorical\n",
    "for col in ['problem_type', 'content_source', 'tutoring_types']:\n",
    "    df[col] = df[col].fillna('Unknown')\n",
    "    df[col] = df[col].astype('category')\n",
    "\n",
    "# 8. Optional: hist. stats (mean_correct, mean_time_on_task).\n",
    "# Fill missing with mean of column, else leave as is depending on your model\n",
    "df['mean_correct'] = df['mean_correct'].fillna(df['mean_correct'].mean())\n",
    "df['mean_time_on_task'] = df['mean_time_on_task'].fillna(df['mean_time_on_task'].mean())\n",
    "df['student_answer_count'] = df['student_answer_count'].fillna(0).astype(int)\n",
    "\n",
    "print(\"Rows after cleaning:\", len(df))\n",
    "df.info()"
   ],
   "id": "a86ccce0dd25ed75",
   "outputs": [
    {
     "name": "stdout",
     "output_type": "stream",
     "text": [
      "Rows after cleaning: 7106683\n",
      "<class 'pandas.core.frame.DataFrame'>\n",
      "Index: 7106683 entries, 0 to 17476372\n",
      "Data columns (total 20 columns):\n",
      " #   Column                  Dtype   \n",
      "---  ------                  -----   \n",
      " 0   log_id                  int64   \n",
      " 1   student_id              int64   \n",
      " 2   assignment_id           int64   \n",
      " 3   problem_id              int64   \n",
      " 4   start_time              object  \n",
      " 5   time_on_task            float64 \n",
      " 6   answer_before_tutoring  float64 \n",
      " 7   fraction_of_hints_used  float64 \n",
      " 8   attempt_count           int64   \n",
      " 9   answer_given            int64   \n",
      " 10  problem_completed       int64   \n",
      " 11  correct                 int64   \n",
      " 12  content_source          category\n",
      " 13  skills                  object  \n",
      " 14  problem_type            category\n",
      " 15  tutoring_types          category\n",
      " 16  student_answer_count    int64   \n",
      " 17  mean_correct            float64 \n",
      " 18  mean_time_on_task       float64 \n",
      " 19  skill                   object  \n",
      "dtypes: category(3), float64(5), int64(9), object(3)\n",
      "memory usage: 996.3+ MB\n"
     ]
    }
   ],
   "execution_count": 3
  },
  {
   "metadata": {
    "ExecuteTime": {
     "end_time": "2025-06-24T16:39:43.135739Z",
     "start_time": "2025-06-24T16:39:42.513008Z"
    }
   },
   "cell_type": "code",
   "source": "df.isnull().sum().sort_values(ascending=False)",
   "id": "27388a2d5d663baf",
   "outputs": [
    {
     "data": {
      "text/plain": [
       "log_id                    0\n",
       "student_id                0\n",
       "mean_time_on_task         0\n",
       "mean_correct              0\n",
       "student_answer_count      0\n",
       "tutoring_types            0\n",
       "problem_type              0\n",
       "skills                    0\n",
       "content_source            0\n",
       "correct                   0\n",
       "problem_completed         0\n",
       "answer_given              0\n",
       "attempt_count             0\n",
       "fraction_of_hints_used    0\n",
       "answer_before_tutoring    0\n",
       "time_on_task              0\n",
       "start_time                0\n",
       "problem_id                0\n",
       "assignment_id             0\n",
       "skill                     0\n",
       "dtype: int64"
      ]
     },
     "execution_count": 4,
     "metadata": {},
     "output_type": "execute_result"
    }
   ],
   "execution_count": 4
  },
  {
   "metadata": {
    "ExecuteTime": {
     "end_time": "2025-06-24T16:46:10.612337Z",
     "start_time": "2025-06-24T16:45:25.058735Z"
    }
   },
   "cell_type": "code",
   "source": "df.to_csv('plogs_with_metadata_cleaned.csv', index=False)",
   "id": "668221a9b00692e5",
   "outputs": [],
   "execution_count": 5
  },
  {
   "metadata": {},
   "cell_type": "code",
   "outputs": [],
   "execution_count": null,
   "source": "",
   "id": "e0ae09a5068dbb0f"
  },
  {
   "metadata": {},
   "cell_type": "code",
   "outputs": [],
   "execution_count": null,
   "source": "",
   "id": "e95ca50b7b15a8"
  },
  {
   "metadata": {},
   "cell_type": "code",
   "outputs": [],
   "execution_count": null,
   "source": "",
   "id": "3b1d9f92e38f3811"
  },
  {
   "metadata": {
    "ExecuteTime": {
     "end_time": "2025-06-24T16:48:39.135145Z",
     "start_time": "2025-06-24T16:48:27.244462Z"
    }
   },
   "cell_type": "code",
   "source": [
    "import pandas as pd\n",
    "\n",
    "df = pd.read_csv(\"plogs_with_metadata_cleaned.csv\")\n",
    "print(df.info())\n",
    "print(df.head())"
   ],
   "id": "914b3a173769977",
   "outputs": [
    {
     "name": "stdout",
     "output_type": "stream",
     "text": [
      "<class 'pandas.core.frame.DataFrame'>\n",
      "RangeIndex: 7106683 entries, 0 to 7106682\n",
      "Data columns (total 20 columns):\n",
      " #   Column                  Dtype  \n",
      "---  ------                  -----  \n",
      " 0   log_id                  int64  \n",
      " 1   student_id              int64  \n",
      " 2   assignment_id           int64  \n",
      " 3   problem_id              int64  \n",
      " 4   start_time              object \n",
      " 5   time_on_task            float64\n",
      " 6   answer_before_tutoring  float64\n",
      " 7   fraction_of_hints_used  float64\n",
      " 8   attempt_count           int64  \n",
      " 9   answer_given            int64  \n",
      " 10  problem_completed       int64  \n",
      " 11  correct                 int64  \n",
      " 12  content_source          object \n",
      " 13  skills                  object \n",
      " 14  problem_type            object \n",
      " 15  tutoring_types          object \n",
      " 16  student_answer_count    int64  \n",
      " 17  mean_correct            float64\n",
      " 18  mean_time_on_task       float64\n",
      " 19  skill                   object \n",
      "dtypes: float64(5), int64(9), object(6)\n",
      "memory usage: 1.1+ GB\n",
      "None\n",
      "    log_id  student_id  assignment_id  problem_id  \\\n",
      "0  8931626      558286         818971     1423359   \n",
      "1  8931626      558286         818971     1423360   \n",
      "2  8931626      558286         818971     1423360   \n",
      "3  8931626      558286         818971     1423361   \n",
      "4  8931626      558286         818971     1423362   \n",
      "\n",
      "                         start_time  time_on_task  answer_before_tutoring  \\\n",
      "0  2020-11-01 01:04:22.133000-05:00       374.106                     1.0   \n",
      "1  2020-11-01 01:10:37.108000-05:00        13.073                     1.0   \n",
      "2  2020-11-01 01:10:37.108000-05:00        13.073                     1.0   \n",
      "3  2020-11-01 01:10:51.303000-05:00        11.239                     1.0   \n",
      "4  2020-11-01 01:11:03.950000-05:00        11.224                     1.0   \n",
      "\n",
      "   fraction_of_hints_used  attempt_count  answer_given  problem_completed  \\\n",
      "0                     0.0              1             0                  1   \n",
      "1                     0.0              1             0                  1   \n",
      "2                     0.0              1             0                  1   \n",
      "3                     0.0              1             0                  1   \n",
      "4                     0.0              1             0                  1   \n",
      "\n",
      "   correct       content_source                      skills problem_type  \\\n",
      "0        1  ['Engage New York']               ['7.RP.A.2b']       Number   \n",
      "1        1  ['Engage New York']  ['6.RP.A.3b', '7.RP.A.2c']       Number   \n",
      "2        1  ['Engage New York']  ['6.RP.A.3b', '7.RP.A.2c']       Number   \n",
      "3        1  ['Engage New York']               ['7.RP.A.2b']       Number   \n",
      "4        1  ['Engage New York']  ['7.RP.A.2a', '7.RP.A.2c']       Number   \n",
      "\n",
      "            tutoring_types  student_answer_count  mean_correct  \\\n",
      "0  ['Explanation', 'Hint']                   576      0.604478   \n",
      "1  ['Explanation', 'Hint']                   462      0.787746   \n",
      "2  ['Explanation', 'Hint']                   462      0.787746   \n",
      "3  ['Explanation', 'Hint']                   436      0.647465   \n",
      "4  ['Explanation', 'Hint']                   431      0.762353   \n",
      "\n",
      "   mean_time_on_task      skill  \n",
      "0         277.581396  7.RP.A.2b  \n",
      "1         120.445969  6.RP.A.3b  \n",
      "2         120.445969  7.RP.A.2c  \n",
      "3         104.151620  7.RP.A.2b  \n",
      "4         102.486845  7.RP.A.2a  \n"
     ]
    }
   ],
   "execution_count": 6
  },
  {
   "metadata": {
    "ExecuteTime": {
     "end_time": "2025-06-24T16:49:24.918109Z",
     "start_time": "2025-06-24T16:49:23.968002Z"
    }
   },
   "cell_type": "code",
   "source": [
    "for col in ['student_id', 'problem_id', 'skill', 'problem_type', 'content_source', 'tutoring_types']:\n",
    "    print(f\"{col}: {df[col].nunique()} unique values\")"
   ],
   "id": "80688d0590f5e82f",
   "outputs": [
    {
     "name": "stdout",
     "output_type": "stream",
     "text": [
      "student_id: 174906 unique values\n",
      "problem_id: 42680 unique values\n",
      "skill: 372 unique values\n",
      "problem_type: 10 unique values\n",
      "content_source: 15 unique values\n",
      "tutoring_types: 8 unique values\n"
     ]
    }
   ],
   "execution_count": 7
  },
  {
   "metadata": {
    "ExecuteTime": {
     "end_time": "2025-06-24T16:49:49.885980Z",
     "start_time": "2025-06-24T16:49:48.689256Z"
    }
   },
   "cell_type": "code",
   "source": [
    "for col in ['student_id', 'problem_id', 'assignment_id', 'skill', 'problem_type', 'content_source', 'tutoring_types']:\n",
    "    if col in df.columns:\n",
    "        df[col] = df[col].astype('category')"
   ],
   "id": "376eddd814ebfe89",
   "outputs": [],
   "execution_count": 8
  },
  {
   "metadata": {},
   "cell_type": "code",
   "outputs": [],
   "execution_count": null,
   "source": "",
   "id": "ef3bfef0d9deb64f"
  }
 ],
 "metadata": {
  "kernelspec": {
   "display_name": "Python 3",
   "language": "python",
   "name": "python3"
  },
  "language_info": {
   "codemirror_mode": {
    "name": "ipython",
    "version": 2
   },
   "file_extension": ".py",
   "mimetype": "text/x-python",
   "name": "python",
   "nbconvert_exporter": "python",
   "pygments_lexer": "ipython2",
   "version": "2.7.6"
  }
 },
 "nbformat": 4,
 "nbformat_minor": 5
}
